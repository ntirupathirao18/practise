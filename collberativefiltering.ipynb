{
 "cells": [
  {
   "cell_type": "code",
   "execution_count": 65,
   "metadata": {
    "collapsed": true
   },
   "outputs": [],
   "source": [
    "data = {\"Jacob\": {\"The Avengers\": 3.0, \"The Martin\": 4.0, \"Guardians of the Galaxy\": 3.5, \"Edge of Tomorrow\": 5.0, \"The Maze Runner\": 3.0},\n",
    "     \"Jane\": {\"The Avengers\": 3.0, \"The Martin\": 4.0, \"Guardians of the Galaxy\": 4.0, \"Edge of Tomorrow\": 3.0, \"The Maze Runner\": 3.0, \"Unbroken\": 4.5},\n",
    "     \"Jim\": {\"The Martin\": 1.0, \"Guardians of the Galaxy\": 2.0, \"Edge of Tomorrow\": 5.0, \"The Maze Runner\": 4.5, \"Unbroken\": 2.0}}"
   ]
  },
  {
   "cell_type": "code",
   "execution_count": 66,
   "metadata": {},
   "outputs": [
    {
     "name": "stdout",
     "output_type": "stream",
     "text": [
      "{'The Avengers': 3.0, 'The Martin': 4.0, 'Guardians of the Galaxy': 3.5, 'Edge of Tomorrow': 5.0, 'The Maze Runner': 3.0}\n",
      "{'The Avengers': 3.0, 'The Martin': 4.0, 'Guardians of the Galaxy': 4.0, 'Edge of Tomorrow': 3.0, 'The Maze Runner': 3.0, 'Unbroken': 4.5}\n"
     ]
    }
   ],
   "source": [
    "print(data['Jacob'])\n",
    "print(data['Jane'])"
   ]
  },
  {
   "cell_type": "code",
   "execution_count": 67,
   "metadata": {
    "collapsed": true
   },
   "outputs": [],
   "source": [
    "common_movies = list(set(data.get(\"Jacob\")).intersection(data.get(\"Jane\")))"
   ]
  },
  {
   "cell_type": "code",
   "execution_count": 68,
   "metadata": {
    "collapsed": true
   },
   "outputs": [],
   "source": [
    "recommendation = list(set(data.get(\"Jane\")).difference(data.get(\"Jacob\")))"
   ]
  },
  {
   "cell_type": "code",
   "execution_count": 69,
   "metadata": {},
   "outputs": [
    {
     "name": "stdout",
     "output_type": "stream",
     "text": [
      "['Edge of Tomorrow', 'The Martin', 'The Avengers', 'Guardians of the Galaxy', 'The Maze Runner']\n",
      "['Unbroken']\n"
     ]
    }
   ],
   "source": [
    "print (common_movies)\n",
    "print (recommendation)"
   ]
  },
  {
   "cell_type": "code",
   "execution_count": 70,
   "metadata": {
    "collapsed": true
   },
   "outputs": [],
   "source": [
    "def similar_mean(same_movies, user1, user2, dataset):\n",
    "    total = 0\n",
    "    for movie in same_movies:\n",
    "        total += abs(dataset.get(user1).get(movie) - dataset.get(user2).get(movie))\n",
    "        print(total)\n",
    "    return total/len(same_movies)"
   ]
  },
  {
   "cell_type": "code",
   "execution_count": 71,
   "metadata": {},
   "outputs": [
    {
     "name": "stdout",
     "output_type": "stream",
     "text": [
      "2.0\n",
      "2.0\n",
      "2.0\n",
      "2.5\n",
      "2.5\n",
      "0.5\n"
     ]
    }
   ],
   "source": [
    "print(similar_mean(common_movies, \"Jacob\", \"Jane\", data))"
   ]
  },
  {
   "cell_type": "code",
   "execution_count": 72,
   "metadata": {
    "collapsed": true
   },
   "outputs": [],
   "source": [
    "common_movies2 = list(set(data.get(\"Jacob\")).intersection(data.get(\"Jim\")))"
   ]
  },
  {
   "cell_type": "code",
   "execution_count": 73,
   "metadata": {
    "collapsed": true
   },
   "outputs": [],
   "source": [
    "recommendation2 = list(set(data.get(\"Jacob\")).difference(data.get(\"Jim\")))"
   ]
  },
  {
   "cell_type": "code",
   "execution_count": 74,
   "metadata": {},
   "outputs": [
    {
     "name": "stdout",
     "output_type": "stream",
     "text": [
      "['Guardians of the Galaxy', 'The Maze Runner', 'Edge of Tomorrow', 'The Martin']\n",
      "['The Avengers']\n"
     ]
    }
   ],
   "source": [
    "print (common_movies2)\n",
    "print (recommendation2)"
   ]
  },
  {
   "cell_type": "code",
   "execution_count": 75,
   "metadata": {},
   "outputs": [
    {
     "name": "stdout",
     "output_type": "stream",
     "text": [
      "1.5\n",
      "3.0\n",
      "3.0\n",
      "6.0\n",
      "1.5\n"
     ]
    }
   ],
   "source": [
    "print(similar_mean(common_movies2, \"Jacob\", \"Jim\", data))"
   ]
  }
 ],
 "metadata": {
  "kernelspec": {
   "display_name": "Python 3",
   "language": "python",
   "name": "python3"
  },
  "language_info": {
   "codemirror_mode": {
    "name": "ipython",
    "version": 3
   },
   "file_extension": ".py",
   "mimetype": "text/x-python",
   "name": "python",
   "nbconvert_exporter": "python",
   "pygments_lexer": "ipython3",
   "version": "3.6.3"
  }
 },
 "nbformat": 4,
 "nbformat_minor": 2
}
