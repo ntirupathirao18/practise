{
 "cells": [
  {
   "cell_type": "code",
   "execution_count": 60,
   "metadata": {
    "collapsed": true
   },
   "outputs": [],
   "source": [
    "import numpy as np \n",
    "from scipy import ndimage \n",
    "from scipy.cluster import hierarchy \n",
    "from scipy.spatial import distance_matrix \n",
    "from matplotlib import pyplot as plt \n",
    "from sklearn import manifold, datasets \n",
    "from sklearn.cluster import AgglomerativeClustering \n",
    "from sklearn.datasets.samples_generator import make_blobs \n",
    "%matplotlib inline"
   ]
  },
  {
   "cell_type": "code",
   "execution_count": 61,
   "metadata": {
    "collapsed": true
   },
   "outputs": [],
   "source": [
    "X2, y2 = make_blobs(n_samples=50, centers=[[4,4], [-2, -1], [1, 1], [10,4],[3,5],[4,5]], cluster_std=0.9)"
   ]
  },
  {
   "cell_type": "code",
   "execution_count": 62,
   "metadata": {},
   "outputs": [
    {
     "data": {
      "text/plain": [
       "<matplotlib.collections.PathCollection at 0x19c45fda588>"
      ]
     },
     "execution_count": 62,
     "metadata": {},
     "output_type": "execute_result"
    },
    {
     "data": {
      "image/png": "[encoded data removed]",
      "text/plain": [
       "<matplotlib.figure.Figure at 0x19c45f85470>"
      ]
     },
     "metadata": {},
     "output_type": "display_data"
    }
   ],
   "source": [
    "plt.scatter(X2[:, 0], X2[:, 1], marker='.') "
   ]
  },
  {
   "cell_type": "code",
   "execution_count": 63,
   "metadata": {
    "collapsed": true
   },
   "outputs": [],
   "source": [
    "agglom = AgglomerativeClustering(n_clusters = 6, linkage = 'ward')"
   ]
  },
  {
   "cell_type": "code",
   "execution_count": 64,
   "metadata": {},
   "outputs": [
    {
     "data": {
      "text/plain": [
       "AgglomerativeClustering(affinity='euclidean', compute_full_tree='auto',\n",
       "            connectivity=None, linkage='ward', memory=None, n_clusters=6,\n",
       "            pooling_func=<function mean at 0x0000019C420CCB70>)"
      ]
     },
     "execution_count": 64,
     "metadata": {},
     "output_type": "execute_result"
    }
   ],
   "source": [
    "agglom.fit(X2,y2)"
   ]
  },
  {
   "cell_type": "code",
   "execution_count": 65,
   "metadata": {},
   "outputs": [
    {
     "name": "stdout",
     "output_type": "stream",
     "text": [
      "[[ 0.          2.66120938  7.80356357 ...,  7.36662182  2.30770854\n",
      "   1.7631302 ]\n",
      " [ 2.66120938  0.          5.3477408  ...,  5.19964865  1.58200118\n",
      "   0.91517251]\n",
      " [ 7.80356357  5.3477408   0.         ...,  1.44244168  5.64913719\n",
      "   6.10655885]\n",
      " ..., \n",
      " [ 7.36662182  5.19964865  1.44244168 ...,  0.          5.0861899\n",
      "   5.80489899]\n",
      " [ 2.30770854  1.58200118  5.64913719 ...,  5.0861899   0.          1.22588263]\n",
      " [ 1.7631302   0.91517251  6.10655885 ...,  5.80489899  1.22588263  0.        ]]\n"
     ]
    }
   ],
   "source": [
    "dist_matrix = distance_matrix(X2,X2) \n",
    "print(dist_matrix)"
   ]
  },
  {
   "cell_type": "code",
   "execution_count": 66,
   "metadata": {},
   "outputs": [
    {
     "name": "stderr",
     "output_type": "stream",
     "text": [
      "C:\\ProgramData\\Anaconda3\\lib\\site-packages\\ipykernel_launcher.py:1: ClusterWarning: scipy.cluster: The symmetric non-negative hollow observation matrix looks suspiciously like an uncondensed distance matrix\n",
      "  \"\"\"Entry point for launching an IPython kernel.\n"
     ]
    }
   ],
   "source": [
    "Z = hierarchy.linkage(dist_matrix, 'ward')"
   ]
  },
  {
   "cell_type": "code",
   "execution_count": 67,
   "metadata": {},
   "outputs": [
    {
     "name": "stdout",
     "output_type": "stream",
     "text": [
      "{'icoord': [[55.0, 55.0, 65.0, 65.0], [45.0, 45.0, 60.0, 60.0], [35.0, 35.0, 52.5, 52.5], [25.0, 25.0, 43.75, 43.75], [15.0, 15.0, 34.375, 34.375], [5.0, 5.0, 24.6875, 24.6875], [75.0, 75.0, 85.0, 85.0], [105.0, 105.0, 115.0, 115.0], [95.0, 95.0, 110.0, 110.0], [80.0, 80.0, 102.5, 102.5], [125.0, 125.0, 135.0, 135.0], [155.0, 155.0, 165.0, 165.0], [145.0, 145.0, 160.0, 160.0], [130.0, 130.0, 152.5, 152.5], [91.25, 91.25, 141.25, 141.25], [14.84375, 14.84375, 116.25, 116.25], [175.0, 175.0, 185.0, 185.0], [205.0, 205.0, 215.0, 215.0], [235.0, 235.0, 245.0, 245.0], [225.0, 225.0, 240.0, 240.0], [210.0, 210.0, 232.5, 232.5], [195.0, 195.0, 221.25, 221.25], [180.0, 180.0, 208.125, 208.125], [275.0, 275.0, 285.0, 285.0], [265.0, 265.0, 280.0, 280.0], [255.0, 255.0, 272.5, 272.5], [315.0, 315.0, 325.0, 325.0], [305.0, 305.0, 320.0, 320.0], [295.0, 295.0, 312.5, 312.5], [345.0, 345.0, 355.0, 355.0], [335.0, 335.0, 350.0, 350.0], [303.75, 303.75, 342.5, 342.5], [263.75, 263.75, 323.125, 323.125], [365.0, 365.0, 375.0, 375.0], [415.0, 415.0, 425.0, 425.0], [405.0, 405.0, 420.0, 420.0], [395.0, 395.0, 412.5, 412.5], [385.0, 385.0, 403.75, 403.75], [435.0, 435.0, 445.0, 445.0], [465.0, 465.0, 475.0, 475.0], [455.0, 455.0, 470.0, 470.0], [440.0, 440.0, 462.5, 462.5], [485.0, 485.0, 495.0, 495.0], [451.25, 451.25, 490.0, 490.0], [394.375, 394.375, 470.625, 470.625], [370.0, 370.0, 432.5, 432.5], [293.4375, 293.4375, 401.25, 401.25], [194.0625, 194.0625, 347.34375, 347.34375], [65.546875, 65.546875, 270.703125, 270.703125]], 'dcoord': [[0.0, 1.5715609409571898, 1.5715609409571898, 0.0], [0.0, 3.0150922157174027, 3.0150922157174027, 1.5715609409571898], [0.0, 5.7951881300466868, 5.7951881300466868, 3.0150922157174027], [0.0, 6.8686899851060295, 6.8686899851060295, 5.7951881300466868], [0.0, 8.8138070459546451, 8.8138070459546451, 6.8686899851060295], [0.0, 20.195655024132282, 20.195655024132282, 8.8138070459546451], [0.0, 4.4905345894369306, 4.4905345894369306, 0.0], [0.0, 3.2858815598552988, 3.2858815598552988, 0.0], [0.0, 5.7465278811123444, 5.7465278811123444, 3.2858815598552988], [4.4905345894369306, 9.3164324103203224, 9.3164324103203224, 5.7465278811123444], [0.0, 4.2445346515906177, 4.2445346515906177, 0.0], [0.0, 1.4893620360169799, 1.4893620360169799, 0.0], [0.0, 5.2805656861231851, 5.2805656861231851, 1.4893620360169799], [4.2445346515906177, 10.781180266482892, 10.781180266482892, 5.2805656861231851], [9.3164324103203224, 24.265664490753558, 24.265664490753558, 10.781180266482892], [20.195655024132282, 56.800526943372908, 56.800526943372908, 24.265664490753558], [0.0, 6.7581605088155703, 6.7581605088155703, 0.0], [0.0, 1.4048396181101741, 1.4048396181101741, 0.0], [0.0, 2.0907548502004105, 2.0907548502004105, 0.0], [0.0, 4.5565467574414749, 4.5565467574414749, 2.0907548502004105], [1.4048396181101741, 6.5837332601117362, 6.5837332601117362, 4.5565467574414749], [0.0, 8.9557550895650291, 8.9557550895650291, 6.5837332601117362], [6.7581605088155703, 12.291514412593566, 12.291514412593566, 8.9557550895650291], [0.0, 0.71198553781529483, 0.71198553781529483, 0.0], [0.0, 2.6501395775404175, 2.6501395775404175, 0.71198553781529483], [0.0, 6.3984834586906496, 6.3984834586906496, 2.6501395775404175], [0.0, 0.46355175699342827, 0.46355175699342827, 0.0], [0.0, 1.0427404538826281, 1.0427404538826281, 0.46355175699342827], [0.0, 1.8006970895171845, 1.8006970895171845, 1.0427404538826281], [0.0, 2.1058672773284726, 2.1058672773284726, 0.0], [0.0, 5.3529391201766279, 5.3529391201766279, 2.1058672773284726], [1.8006970895171845, 8.3894079604739105, 8.3894079604739105, 5.3529391201766279], [6.3984834586906496, 11.353160349875283, 11.353160349875283, 8.3894079604739105], [0.0, 6.1006413800779722, 6.1006413800779722, 0.0], [0.0, 0.35494197380796233, 0.35494197380796233, 0.0], [0.0, 0.87565926734769672, 0.87565926734769672, 0.35494197380796233], [0.0, 2.3323060202778128, 2.3323060202778128, 0.87565926734769672], [0.0, 3.898324304681307, 3.898324304681307, 2.3323060202778128], [0.0, 1.123644139683595, 1.123644139683595, 0.0], [0.0, 1.3607238664698733, 1.3607238664698733, 0.0], [0.0, 1.7000232273555462, 1.7000232273555462, 1.3607238664698733], [1.123644139683595, 3.1388068189995049, 3.1388068189995049, 1.7000232273555462], [0.0, 3.6006614610493974, 3.6006614610493974, 0.0], [3.1388068189995049, 5.2989108567751977, 5.2989108567751977, 3.6006614610493974], [3.898324304681307, 11.293301422140566, 11.293301422140566, 5.2989108567751977], [6.1006413800779722, 16.79639081324904, 16.79639081324904, 11.293301422140566], [11.353160349875283, 26.689883153574197, 26.689883153574197, 16.79639081324904], [12.291514412593566, 126.24113496697947, 126.24113496697947, 26.689883153574197], [56.800526943372908, 172.21564666706934, 172.21564666706934, 126.24113496697947]], 'ivl': ['26', '15', '43', '36', '16', '10', '14', '12', '41', '44', '20', '27', '5', '18', '23', '25', '45', '28', '32', '24', '2', '35', '22', '7', '47', '3', '1', '17', '39', '49', '31', '11', '37', '48', '6', '9', '34', '40', '13', '38', '0', '29', '46', '8', '42', '21', '4', '19', '30', '33'], 'leaves': [26, 15, 43, 36, 16, 10, 14, 12, 41, 44, 20, 27, 5, 18, 23, 25, 45, 28, 32, 24, 2, 35, 22, 7, 47, 3, 1, 17, 39, 49, 31, 11, 37, 48, 6, 9, 34, 40, 13, 38, 0, 29, 46, 8, 42, 21, 4, 19, 30, 33], 'color_list': ['g', 'g', 'g', 'g', 'g', 'g', 'g', 'g', 'g', 'g', 'g', 'g', 'g', 'g', 'g', 'g', 'r', 'r', 'r', 'r', 'r', 'r', 'r', 'c', 'c', 'c', 'c', 'c', 'c', 'c', 'c', 'c', 'c', 'c', 'c', 'c', 'c', 'c', 'c', 'c', 'c', 'c', 'c', 'c', 'c', 'c', 'c', 'b', 'b']}\n"
     ]
    },
    {
     "data": {
      "image/png": "[encoded data removed]",
      "text/plain": [
       "<matplotlib.figure.Figure at 0x19c45f6f5c0>"
      ]
     },
     "metadata": {},
     "output_type": "display_data"
    }
   ],
   "source": [
    "dendro = hierarchy.dendrogram(Z)\n",
    "print(dendro)"
   ]
  }
 ],
 "metadata": {
  "kernelspec": {
   "display_name": "Python 3",
   "language": "python",
   "name": "python3"
  },
  "language_info": {
   "codemirror_mode": {
    "name": "ipython",
    "version": 3
   },
   "file_extension": ".py",
   "mimetype": "text/x-python",
   "name": "python",
   "nbconvert_exporter": "python",
   "pygments_lexer": "ipython3",
   "version": "3.6.3"
  }
 },
 "nbformat": 4,
 "nbformat_minor": 2
}
